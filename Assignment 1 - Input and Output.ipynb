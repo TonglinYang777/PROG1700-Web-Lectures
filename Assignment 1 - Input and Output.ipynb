{
 "cells": [
  {
   "cell_type": "markdown",
   "metadata": {
    "colab_type": "text",
    "id": "-ycSUdCI6y9U"
   },
   "source": [
    "# Assignment 1\n",
    "\n",
    "## Total: 35pts"
   ]
  },
  {
   "cell_type": "markdown",
   "metadata": {
    "colab_type": "text",
    "id": "Wu4GRcHW6y9Z"
   },
   "source": [
    "### Part A - Write Code! (5pts)\n",
    "\n",
    "For each item below, determine the appropriate TypeScript code to generate the desired output.\n",
    "\n",
    "---"
   ]
  },
  {
   "cell_type": "markdown",
   "metadata": {
    "colab_type": "text",
    "id": "nTt4W7Ld6y9b"
   },
   "source": [
    "1) Display your name and student ID to the console."
   ]
  },
  {
   "cell_type": "code",
   "execution_count": 1,
   "metadata": {
    "colab": {},
    "colab_type": "code",
    "hide_input": false,
    "id": "WzPxfS7A6y9e"
   },
   "outputs": [
    {
     "name": "stdout",
     "output_type": "stream",
     "text": [
      "Tonglin Yang W0526437\n"
     ]
    }
   ],
   "source": [
    "console.log(\"Tonglin Yang W0526437\")"
   ]
  },
  {
   "cell_type": "markdown",
   "metadata": {
    "colab_type": "text",
    "id": "Es-ulO716y9m"
   },
   "source": [
    "**Example Output:**  \n",
    "Jane Doe W0123456"
   ]
  },
  {
   "cell_type": "markdown",
   "metadata": {
    "colab_type": "text",
    "id": "5fUTfuYX6y9p"
   },
   "source": [
    "---"
   ]
  },
  {
   "cell_type": "markdown",
   "metadata": {
    "colab_type": "text",
    "id": "f2XqD7Ya6y9q"
   },
   "source": [
    "2) Create a variable, called __num__, to hold the integer value, __10__. Then, display the contents of the variable."
   ]
  },
  {
   "cell_type": "code",
   "execution_count": 2,
   "metadata": {
    "colab": {},
    "colab_type": "code",
    "id": "oBwsAgVF6y9s"
   },
   "outputs": [
    {
     "name": "stdout",
     "output_type": "stream",
     "text": [
      "\u001b[33m10\u001b[39m\n"
     ]
    }
   ],
   "source": [
    "let num: number=10;\n",
    " console.log(num);"
   ]
  },
  {
   "cell_type": "markdown",
   "metadata": {
    "colab_type": "text",
    "id": "l_Q8MbM86y9z"
   },
   "source": [
    "**Expected Output:**  \n",
    "10"
   ]
  },
  {
   "cell_type": "markdown",
   "metadata": {
    "colab_type": "text",
    "id": "abgJYaMv6y91"
   },
   "source": [
    "---"
   ]
  },
  {
   "cell_type": "markdown",
   "metadata": {
    "colab_type": "text",
    "id": "QgmpkjOE6y93"
   },
   "source": [
    "3) Create a variable to hold the name of your favourite TV character. Then, use a template literal to display the message \"My favourite TV star is: \" with the variable contents appended. (e.g. \"My favourite TV star is: Homer Simpson\")"
   ]
  },
  {
   "cell_type": "code",
   "execution_count": 3,
   "metadata": {
    "colab": {},
    "colab_type": "code",
    "id": "36FjBTTw6y95"
   },
   "outputs": [
    {
     "name": "stdout",
     "output_type": "stream",
     "text": [
      "My favourite TV star is: Shizuki\n"
     ]
    }
   ],
   "source": [
    "let person = \"Shizuki\";\n",
    " console.log(`My favourite TV star is: ${person}`);"
   ]
  },
  {
   "cell_type": "markdown",
   "metadata": {
    "colab_type": "text",
    "id": "yblg8E4p6y9_"
   },
   "source": [
    "**Example Output:**  \n",
    "My favourite TV star is: Homer Simpson"
   ]
  },
  {
   "cell_type": "markdown",
   "metadata": {
    "colab_type": "text",
    "id": "Z1ZTYMrg6y-A"
   },
   "source": [
    "---"
   ]
  },
  {
   "cell_type": "markdown",
   "metadata": {
    "colab_type": "text",
    "id": "5wf6aWFu6y-C"
   },
   "source": [
    "4) Display Santa Clause's catch phrase (Ho Ho Ho) using the string repeat method."
   ]
  },
  {
   "cell_type": "code",
   "execution_count": 4,
   "metadata": {
    "colab": {},
    "colab_type": "code",
    "id": "Zb2fu3Vi6y-D"
   },
   "outputs": [
    {
     "name": "stdout",
     "output_type": "stream",
     "text": [
      "HoHoHo\n"
     ]
    }
   ],
   "source": [
    "console.log(\"Ho\".repeat(3).trim())"
   ]
  },
  {
   "cell_type": "markdown",
   "metadata": {
    "colab_type": "text",
    "id": "_1Rqco0g6y-I"
   },
   "source": [
    "**Expected Output:**  \n",
    "Ho Ho Ho "
   ]
  },
  {
   "cell_type": "markdown",
   "metadata": {
    "colab_type": "text",
    "id": "Hzr0pZwz6y-K"
   },
   "source": [
    "---"
   ]
  },
  {
   "cell_type": "markdown",
   "metadata": {
    "colab_type": "text",
    "id": "A835cS6V6y-M"
   },
   "source": [
    "5) Create the TypeScript statement to calculate the following mathematical expression: \n",
    "    $$ \\begin{align*} \\frac {2 + 3} 2 \\times \\frac {6 - 4} 3 \\end{align*} $$\n",
    "    Round the results to three decimal points."
   ]
  },
  {
   "cell_type": "code",
   "execution_count": 6,
   "metadata": {
    "colab": {},
    "colab_type": "code",
    "id": "0WBkOlyU6y-N"
   },
   "outputs": [
    {
     "name": "stdout",
     "output_type": "stream",
     "text": [
      "1.667\n"
     ]
    }
   ],
   "source": [
    "let result: number=(2+3)*(6-4)/(2*3);\n",
    " console.log(result.toFixed(3));"
   ]
  },
  {
   "cell_type": "markdown",
   "metadata": {
    "colab_type": "text",
    "id": "b0lboah16y-S"
   },
   "source": [
    "**Expected Output:**  \n",
    "1.667"
   ]
  },
  {
   "cell_type": "markdown",
   "metadata": {
    "colab_type": "text",
    "id": "E-mgGgbG6y-U"
   },
   "source": [
    "---"
   ]
  },
  {
   "cell_type": "markdown",
   "metadata": {
    "colab_type": "text",
    "id": "clFbvpgn6y-V"
   },
   "source": [
    "### Part B - Fix the Error! (15pts)\n",
    "\n",
    "Listed below are several snippets of code that contain small errors. For each of the questions, copy the given code and __correct the error__ so the code will generate the desired output. \n",
    "\n",
    "**NOTE: Don't add any additional lines or entirely rewrite the given code, just correct the error to make the line(s) work as expected. You will be marked incorrect otherwise.**\n",
    "\n",
    "---"
   ]
  },
  {
   "cell_type": "markdown",
   "metadata": {
    "colab_type": "text",
    "id": "MvbrIaDp6y-X"
   },
   "source": [
    "6) Display a string of text on the screen."
   ]
  },
  {
   "cell_type": "markdown",
   "metadata": {
    "colab": {},
    "colab_type": "code",
    "id": "tV81pJmY6y-Z"
   },
   "source": [
    "```typescript\n",
    "// DON'T modify this code\n",
    "console.log \"This is a story about a man named Jed.\"\n",
    "```"
   ]
  },
  {
   "cell_type": "code",
   "execution_count": 5,
   "metadata": {},
   "outputs": [
    {
     "name": "stdout",
     "output_type": "stream",
     "text": [
      "This is a story about a man named Jed.\n"
     ]
    }
   ],
   "source": [
    "// DO enter your answer below this line\n",
    "console.log (\"This is a story about a man named Jed.\")"
   ]
  },
  {
   "cell_type": "markdown",
   "metadata": {
    "colab_type": "text",
    "hide_input": false,
    "id": "bxFcQ3OL6y-e"
   },
   "source": [
    "**Expected Output:**  \n",
    "This is a story about a man named Jed."
   ]
  },
  {
   "cell_type": "markdown",
   "metadata": {
    "colab_type": "text",
    "id": "C25pX2RK6y-g"
   },
   "source": [
    "---"
   ]
  },
  {
   "cell_type": "markdown",
   "metadata": {
    "colab_type": "text",
    "id": "ktSlWc6N6y-h"
   },
   "source": [
    "7) Display a string and a decimal number using string concatentation."
   ]
  },
  {
   "cell_type": "markdown",
   "metadata": {
    "colab": {},
    "colab_type": "code",
    "id": "hLpjaTaf6y-i",
    "vscode": {
     "languageId": "raw"
    }
   },
   "source": [
    "```typescript\n",
    "// DON'T modify this code\n",
    "console.log(\"PI = \" 3.14159)\n",
    "```"
   ]
  },
  {
   "cell_type": "code",
   "execution_count": 7,
   "metadata": {},
   "outputs": [
    {
     "name": "stdout",
     "output_type": "stream",
     "text": [
      "PI =  3.14159\n"
     ]
    }
   ],
   "source": [
    "// DO enter your answer below this line\n",
    "console.log(\"PI =  3.14159\")"
   ]
  },
  {
   "cell_type": "markdown",
   "metadata": {
    "colab_type": "text",
    "hide_input": false,
    "id": "xO_FFzZY6y-m"
   },
   "source": [
    "**Expected Output:**  \n",
    "PI = 3.14159"
   ]
  },
  {
   "cell_type": "markdown",
   "metadata": {
    "colab_type": "text",
    "id": "9QoBU_y66y-n"
   },
   "source": [
    "---"
   ]
  },
  {
   "cell_type": "markdown",
   "metadata": {
    "colab_type": "text",
    "id": "JqoR_7nD6y-p"
   },
   "source": [
    "8) Fix the line so that the answer is correctly calculated and displayed."
   ]
  },
  {
   "cell_type": "markdown",
   "metadata": {
    "colab": {},
    "colab_type": "code",
    "id": "XgzRrjS76y-q"
   },
   "source": [
    "```typescript\n",
    "// DON'T modify this code\n",
    "console.log(\"1 + 2\")\n",
    "```"
   ]
  },
  {
   "cell_type": "code",
   "execution_count": 8,
   "metadata": {},
   "outputs": [
    {
     "name": "stdout",
     "output_type": "stream",
     "text": [
      "\u001b[33m3\u001b[39m\n"
     ]
    }
   ],
   "source": [
    "// DO enter your answer below this line\n",
    " console.log(1 + 2)"
   ]
  },
  {
   "cell_type": "markdown",
   "metadata": {
    "colab_type": "text",
    "hide_input": false,
    "id": "T80xIQNw6y-v"
   },
   "source": [
    "**Expected Output:**  \n",
    "3"
   ]
  },
  {
   "cell_type": "markdown",
   "metadata": {
    "colab_type": "text",
    "id": "DFA2VS036y-y"
   },
   "source": [
    "---"
   ]
  },
  {
   "cell_type": "markdown",
   "metadata": {
    "colab_type": "text",
    "id": "4E936jWH6y-z"
   },
   "source": [
    "9) Correct the following calculation so that the output makes sense."
   ]
  },
  {
   "cell_type": "markdown",
   "metadata": {
    "colab": {},
    "colab_type": "code",
    "id": "IfmIJzCw6y-0"
   },
   "source": [
    "```typescript\n",
    "// DON'T modify this code\n",
    "console.log(\"3 cubed =\", 3 * 3)\n",
    "```"
   ]
  },
  {
   "cell_type": "code",
   "execution_count": 9,
   "metadata": {},
   "outputs": [
    {
     "name": "stdout",
     "output_type": "stream",
     "text": [
      "3 cubed = \u001b[33m27\u001b[39m\n"
     ]
    }
   ],
   "source": [
    "// DO enter your answer below this line\n",
    " console.log(\"3 cubed =\", 3 ** 3)"
   ]
  },
  {
   "cell_type": "markdown",
   "metadata": {
    "colab_type": "text",
    "hide_input": false,
    "id": "QWoZX78Y6y-2"
   },
   "source": [
    "**Expected Output:**  \n",
    "3 cubed = 27"
   ]
  },
  {
   "cell_type": "markdown",
   "metadata": {
    "colab_type": "text",
    "id": "2cshrCMI6y-4"
   },
   "source": [
    "---"
   ]
  },
  {
   "cell_type": "markdown",
   "metadata": {
    "colab_type": "text",
    "id": "qDoiSp5n6y-6"
   },
   "source": [
    "10) Fix the template literal to display a name in the format <em>&lt;last name&gt;, &lt;first name&gt;</em>"
   ]
  },
  {
   "cell_type": "markdown",
   "metadata": {
    "colab": {},
    "colab_type": "code",
    "id": "MzATP0zW6y-7"
   },
   "source": [
    "```typescript\n",
    "// DON'T modify this code\n",
    "let firstName = \"John\"\n",
    "let lastName = \"Smith\"\n",
    "console.log('${lastName}, ${firstName}')\n",
    "```"
   ]
  },
  {
   "cell_type": "code",
   "execution_count": 10,
   "metadata": {},
   "outputs": [
    {
     "name": "stdout",
     "output_type": "stream",
     "text": [
      "Smith, John\n"
     ]
    }
   ],
   "source": [
    "// DO enter your answer below this line\n",
    "let firstName = \"John\"\n",
    " let lastName = \"Smith\"\n",
    " console.log(`${lastName}, ${firstName}`)"
   ]
  },
  {
   "cell_type": "markdown",
   "metadata": {
    "colab_type": "text",
    "hide_input": false,
    "id": "p7efUk0_6y_A"
   },
   "source": [
    "**Expected Output:**  \n",
    "Smith, John"
   ]
  },
  {
   "cell_type": "markdown",
   "metadata": {
    "colab_type": "text",
    "id": "WBPb2GYB6y_A"
   },
   "source": [
    "---"
   ]
  },
  {
   "cell_type": "markdown",
   "metadata": {
    "colab_type": "text",
    "id": "-fePfJ-l6y_D"
   },
   "source": [
    "11) Display the answer of an integer division and the remainder. There should not be any decimal points displayed."
   ]
  },
  {
   "cell_type": "markdown",
   "metadata": {
    "colab": {},
    "colab_type": "code",
    "id": "pU0SZtVT6y_D"
   },
   "source": [
    "```typescript\n",
    "// DON'T modify this code\n",
    "console.log(\"193 / 5 =\", 193/5, \"remainder\", 193/5)\n",
    "```"
   ]
  },
  {
   "cell_type": "code",
   "execution_count": 11,
   "metadata": {},
   "outputs": [
    {
     "name": "stdout",
     "output_type": "stream",
     "text": [
      "193 / 5 = \u001b[33m38\u001b[39m remainder \u001b[33m3\u001b[39m\n"
     ]
    }
   ],
   "source": [
    "// DO enter your answer below this line\n",
    " console.log(\"193 / 5 =\", Math.floor(193/5), \"remainder\", 193%5)"
   ]
  },
  {
   "cell_type": "markdown",
   "metadata": {
    "colab_type": "text",
    "hide_input": false,
    "id": "ZHMyYGDr6y_H"
   },
   "source": [
    "**Expected Output:**  \n",
    "193 / 5 = 38 remainder 3"
   ]
  },
  {
   "cell_type": "markdown",
   "metadata": {
    "colab_type": "text",
    "id": "Jj5xRTax6y_I"
   },
   "source": [
    "---"
   ]
  },
  {
   "cell_type": "markdown",
   "metadata": {
    "colab_type": "text",
    "id": "mdXkqJSQ6y_K"
   },
   "source": [
    "12) Correct the following calculation to convert 100&deg; Celsius to Fahrenheit."
   ]
  },
  {
   "cell_type": "markdown",
   "metadata": {
    "colab": {},
    "colab_type": "code",
    "id": "2lG5lMjV6y_L"
   },
   "source": [
    "```typescript\n",
    "// DON'T modify this code\n",
    "let temperature = 100.0\n",
    "console.log(temperature + 32 * 9 / 5)\n",
    "```"
   ]
  },
  {
   "cell_type": "code",
   "execution_count": 12,
   "metadata": {},
   "outputs": [
    {
     "name": "stdout",
     "output_type": "stream",
     "text": [
      "\u001b[33m212\u001b[39m\n"
     ]
    }
   ],
   "source": [
    "// DO enter your answer below this line\n",
    "let temperature = 100.0\n",
    " console.log((temperature* 9 / 5)+32)"
   ]
  },
  {
   "cell_type": "markdown",
   "metadata": {
    "colab_type": "text",
    "hide_input": false,
    "id": "Li8GQBhP6y_P"
   },
   "source": [
    "**Expected Output:**  \n",
    "212"
   ]
  },
  {
   "cell_type": "markdown",
   "metadata": {
    "colab_type": "text",
    "id": "fPefqaRC6y_Q"
   },
   "source": [
    "---"
   ]
  },
  {
   "cell_type": "markdown",
   "metadata": {
    "colab_type": "text",
    "id": "zDfgedeQ6y_R"
   },
   "source": [
    "13) Correct the following to calculate and display the expected answer using string concatentation. "
   ]
  },
  {
   "cell_type": "markdown",
   "metadata": {
    "colab": {},
    "colab_type": "code",
    "id": "QxYwQGT_6y_S"
   },
   "source": [
    "```typescript\n",
    "// DON'T modify this code\n",
    "console.log(\"1 + 2 = \" + 1 + 2)\n",
    "```"
   ]
  },
  {
   "cell_type": "code",
   "execution_count": 13,
   "metadata": {},
   "outputs": [
    {
     "name": "stdout",
     "output_type": "stream",
     "text": [
      "1 + 2 = 3\n"
     ]
    }
   ],
   "source": [
    "// DO enter your answer below this line\n",
    "console.log(\"1 + 2 = \" + (1 + 2))"
   ]
  },
  {
   "cell_type": "markdown",
   "metadata": {
    "colab_type": "text",
    "hide_input": false,
    "id": "oHjfY8WX6y_U"
   },
   "source": [
    "**Expected Output:**  \n",
    "1 + 2 = 3"
   ]
  },
  {
   "cell_type": "markdown",
   "metadata": {
    "colab_type": "text",
    "id": "j-9PA9_k6y_V"
   },
   "source": [
    "---"
   ]
  },
  {
   "cell_type": "markdown",
   "metadata": {
    "colab_type": "text",
    "id": "X5D1SkqU6y_W"
   },
   "source": [
    "14) Correct the error using best practices to display the desired output."
   ]
  },
  {
   "cell_type": "markdown",
   "metadata": {
    "colab": {},
    "colab_type": "code",
    "id": "G5712cAE6y_X"
   },
   "source": [
    "```typescript\n",
    "// DON'T modify this code\n",
    "let ninety-nine = 99\n",
    "console.log(\"Number = \" + ninety-nine)\n",
    "```"
   ]
  },
  {
   "cell_type": "code",
   "execution_count": 14,
   "metadata": {},
   "outputs": [
    {
     "name": "stdout",
     "output_type": "stream",
     "text": [
      "Number = 99\n"
     ]
    }
   ],
   "source": [
    "// DO enter your answer below this line\n",
    "let ninetynine = 99\n",
    " console.log(\"Number = \" + ninetynine)"
   ]
  },
  {
   "cell_type": "markdown",
   "metadata": {
    "colab_type": "text",
    "hide_input": false,
    "id": "96UK1g5z6y_b"
   },
   "source": [
    "**Expected Output:**  \n",
    "Number = 99"
   ]
  },
  {
   "cell_type": "markdown",
   "metadata": {
    "colab_type": "text",
    "id": "xt8Nvun06y_c"
   },
   "source": [
    "---"
   ]
  },
  {
   "cell_type": "markdown",
   "metadata": {
    "colab_type": "text",
    "id": "E6vzuJbj6y_d"
   },
   "source": [
    "15) Use a single print statement to print on multiple lines."
   ]
  },
  {
   "cell_type": "markdown",
   "metadata": {
    "colab": {},
    "colab_type": "code",
    "id": "ikSIAVWP6y_f"
   },
   "source": [
    "```typescript\n",
    "// DON'T modify this code\n",
    "console.log(\"This is on multiple lines.\")\n",
    "```"
   ]
  },
  {
   "cell_type": "code",
   "execution_count": 15,
   "metadata": {},
   "outputs": [
    {
     "name": "stdout",
     "output_type": "stream",
     "text": [
      "This is\n",
      "on multiple\n",
      "lines.\n"
     ]
    }
   ],
   "source": [
    "// DO enter your answer below this line\n",
    "console.log(\"This is\\non multiple\\nlines.\")"
   ]
  },
  {
   "cell_type": "markdown",
   "metadata": {
    "colab_type": "text",
    "hide_input": false,
    "id": "A8abaWIK6y_i"
   },
   "source": [
    "**Expected Output:**  \n",
    "This is<br>\n",
    "on multiple<br>\n",
    "lines."
   ]
  },
  {
   "cell_type": "markdown",
   "metadata": {
    "colab_type": "text",
    "id": "tqq23ggf6y_j"
   },
   "source": [
    "---"
   ]
  },
  {
   "cell_type": "markdown",
   "metadata": {
    "colab_type": "text",
    "id": "A5dYC_Im6y_k"
   },
   "source": [
    "16) Comment out the first line."
   ]
  },
  {
   "cell_type": "markdown",
   "metadata": {},
   "source": [
    "```typescript\n",
    "// DON'T modify this code\n",
    "console.log(\"This is just a comment.\")\n",
    "console.log(\"You should only see this line.\")\n",
    "```"
   ]
  },
  {
   "cell_type": "code",
   "execution_count": 16,
   "metadata": {
    "colab": {},
    "colab_type": "code",
    "id": "F2c7Ps2K6y_l"
   },
   "outputs": [
    {
     "name": "stdout",
     "output_type": "stream",
     "text": [
      "You should only see this line.\n"
     ]
    }
   ],
   "source": [
    "// DO enter your answer below this line\n",
    "console.log(\"You should only see this line.\")"
   ]
  },
  {
   "cell_type": "markdown",
   "metadata": {
    "colab_type": "text",
    "hide_input": false,
    "id": "UBjft-_Q6y_o"
   },
   "source": [
    "**Expected Output:**  \n",
    "You should only see this line."
   ]
  },
  {
   "cell_type": "markdown",
   "metadata": {
    "colab_type": "text",
    "id": "dIlFC3t36y_p"
   },
   "source": [
    "---"
   ]
  },
  {
   "cell_type": "markdown",
   "metadata": {
    "colab_type": "text",
    "id": "T-rGL5rf6y_p"
   },
   "source": [
    "17) Make some ASCII art! Correct the string to create the expected output."
   ]
  },
  {
   "cell_type": "markdown",
   "metadata": {
    "colab": {},
    "colab_type": "code",
    "id": "UNfkaCmd6y_q"
   },
   "source": [
    "```typescript\n",
    "// DON'T modify this code\n",
    "console.log(\".     . \\ O /  - -   |   ^  / \\ -   -\")\n",
    "```"
   ]
  },
  {
   "cell_type": "code",
   "execution_count": 17,
   "metadata": {},
   "outputs": [
    {
     "name": "stdout",
     "output_type": "stream",
     "text": [
      " .     .\n",
      "  \\ O /   \n",
      "   - -\n",
      "    |\n",
      "    ^ \n",
      "   / \\  \n",
      "  -   -\n"
     ]
    }
   ],
   "source": [
    "// DO enter your answer below this line\n",
    "console.log(\" .     .\\n  \\\\ O /   \\n   - -\\n    |\\n    ^ \\n   / \\\\  \\n  -   -\")"
   ]
  },
  {
   "cell_type": "markdown",
   "metadata": {
    "colab_type": "text",
    "hide_input": false,
    "id": "13-5dgUB6y_t"
   },
   "source": [
    "**Expected Output :**  \n",
    "<pre>\n",
    ".     .\n",
    " \\ O /\n",
    "  - -\n",
    "   |\n",
    "   ^\n",
    "  / \\\n",
    " -   -\n",
    " </pre>"
   ]
  },
  {
   "cell_type": "markdown",
   "metadata": {
    "colab_type": "text",
    "id": "HtT9IyLW6y_t"
   },
   "source": [
    "---"
   ]
  },
  {
   "cell_type": "markdown",
   "metadata": {
    "colab_type": "text",
    "id": "y8t5sNEJ6y_v"
   },
   "source": [
    "18) A couple of problems here.... (Remember, just fix the errors, don't rewrite the statement. There are two errors!)"
   ]
  },
  {
   "cell_type": "markdown",
   "metadata": {
    "colab": {},
    "colab_type": "code",
    "id": "18i2xD8I6y_w"
   },
   "source": [
    "```typescript\n",
    "// DON'T modify this code\n",
    "let not = \"not\"\n",
    "console.log(`Something's $(not) right ` - \"here.\")\n",
    "```"
   ]
  },
  {
   "cell_type": "code",
   "execution_count": 18,
   "metadata": {},
   "outputs": [
    {
     "name": "stdout",
     "output_type": "stream",
     "text": [
      "Something's not right  here.\n"
     ]
    }
   ],
   "source": [
    "// DO enter your answer below this line\n",
    " let not = \"not\"\n",
    " console.log(`Something's ${not} right  here.`)"
   ]
  },
  {
   "cell_type": "markdown",
   "metadata": {
    "colab_type": "text",
    "hide_input": false,
    "id": "e4rOW-WF6y_z"
   },
   "source": [
    "**Expected Output:**  \n",
    "Something's not right here."
   ]
  },
  {
   "cell_type": "markdown",
   "metadata": {
    "colab_type": "text",
    "id": "F_VZsY4J6y_0"
   },
   "source": [
    "---"
   ]
  },
  {
   "cell_type": "markdown",
   "metadata": {
    "colab_type": "text",
    "id": "4vX2ih9y6y_0"
   },
   "source": [
    "19) Fix the following bill calculation by adding a 15% gratuity."
   ]
  },
  {
   "cell_type": "markdown",
   "metadata": {
    "colab": {},
    "colab_type": "code",
    "id": "vE2lw-j66y_1"
   },
   "source": [
    "```typescript\n",
    "// DON'T modify this code\n",
    "let restaurantBill = 10.00\n",
    "// add 15% to the bill here\n",
    "console.log('Total: $' + restaurantBill.toFixed(2))\n",
    "```"
   ]
  },
  {
   "cell_type": "code",
   "execution_count": 19,
   "metadata": {},
   "outputs": [
    {
     "name": "stdout",
     "output_type": "stream",
     "text": [
      "Total: $11.50\n"
     ]
    }
   ],
   "source": [
    "// DO enter your answer below this line\n",
    "let restaurantBill = 10.00\n",
    " console.log('Total: $' + (restaurantBill*1.15).toFixed(2))"
   ]
  },
  {
   "cell_type": "markdown",
   "metadata": {
    "colab_type": "text",
    "id": "6IVRe1Qh6y_5"
   },
   "source": [
    "**Expected Output:**  \n",
    "Total: $11.50"
   ]
  },
  {
   "cell_type": "markdown",
   "metadata": {
    "colab_type": "text",
    "id": "A68QJSUp6y_5"
   },
   "source": [
    "---"
   ]
  },
  {
   "cell_type": "markdown",
   "metadata": {
    "colab_type": "text",
    "id": "xZuKb1vx6y_6"
   },
   "source": [
    "20) Correct the following inventory count by subtracting the number of items sold from the total."
   ]
  },
  {
   "cell_type": "markdown",
   "metadata": {
    "colab": {},
    "colab_type": "code",
    "id": "hj4qG8JN6y_7"
   },
   "source": [
    "```typescript\n",
    "// DON'T modify this code\n",
    "let totalItems = 100\n",
    "let itemsSold = 42\n",
    "// correct the total here\n",
    "console.log(`Sold: ${itemsSold}, Remaining: ${totalItems}`)\n",
    "```"
   ]
  },
  {
   "cell_type": "code",
   "execution_count": 20,
   "metadata": {},
   "outputs": [
    {
     "name": "stdout",
     "output_type": "stream",
     "text": [
      "Sold: 42, Remaining: 58\n"
     ]
    }
   ],
   "source": [
    "// DO enter your answer below this line\n",
    " let totalItems = 100\n",
    " let itemsSold = 42\n",
    " console.log(`Sold: ${itemsSold}, Remaining: ${totalItems-itemsSold}`)"
   ]
  },
  {
   "cell_type": "markdown",
   "metadata": {
    "colab_type": "text",
    "id": "_Yy8M9Tt6y_-"
   },
   "source": [
    "**Expected Output:**  \n",
    "Sold: 42, Remaining: 58"
   ]
  },
  {
   "cell_type": "markdown",
   "metadata": {},
   "source": [
    "---\n",
    "\n",
    "### Part C - Script (15pts)\n",
    "\n",
    "Create a TypeScript program that calculates the roots of a quadratic equation using the equation, $x = \\large {-b \\pm \\sqrt{b^2 - 4ac} \\over 2a}$.\n",
    "\n",
    "You can assume that the equations used will always have two defined roots. (i.e. ${a \\ne 0}$)\n",
    "\n",
    "The program should allow the user to input the three variables of the formula, a, b, and c, and then output the resulting roots.\n",
    "\n",
    "Example:\n",
    "\n",
    "<div style=\"width:800px\"><img src=\"img/quadratic.gif\" /></div>"
   ]
  }
 ],
 "metadata": {
  "colab": {
   "collapsed_sections": [],
   "name": "Assignment 1 - Input and Output.ipynb",
   "provenance": [],
   "toc_visible": true,
   "version": "0.3.2"
  },
  "hide_input": false,
  "kernelspec": {
   "display_name": "Deno",
   "language": "typescript",
   "name": "deno"
  },
  "language_info": {
   "codemirror_mode": "typescript",
   "file_extension": ".ts",
   "mimetype": "text/x.typescript",
   "name": "typescript",
   "nbconvert_exporter": "script",
   "pygments_lexer": "typescript",
   "version": "5.9.2"
  }
 },
 "nbformat": 4,
 "nbformat_minor": 4
}
