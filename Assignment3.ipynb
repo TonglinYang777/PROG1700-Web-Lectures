{
 "cells": [
  {
   "cell_type": "markdown",
   "metadata": {},
   "source": [
    "# Assignment 3\n",
    "\n",
    "### Total = 30pts\n",
    "\n",
    "__AI Usage:__ You are able to use AI to help solve the problems as mentioned in class. However, your solutions should contain only TypeScript features that have been discussed in class. Answers that include features not discussed will lose points, even if the script works as expected. If you are unsure of what topics have been discussed, review the class notes or ask your instructor for clarification.\n",
    "\n",
    "---"
   ]
  },
  {
   "cell_type": "markdown",
   "metadata": {},
   "source": [
    "Create an array to hold your name and student number,  \n",
    "use array destructuring to extract the data into variables \n",
    "and then print out the values.<br>  \n",
    "__1 pt__"
   ]
  },
  {
   "cell_type": "code",
   "execution_count": null,
   "metadata": {
    "dotnet_interactive": {
     "language": "pwsh"
    }
   },
   "outputs": [],
   "source": [
    "// add your code here\n",
    "let info = [\"Tonglin Yang\", \"W0526437\"];\n",
    "let [name, studentID] = info;\n",
    "\n",
    "console.log(`Name: ${name}, StudentID: ${studentID}`);"
   ]
  },
  {
   "cell_type": "markdown",
   "metadata": {},
   "source": [
    "Name: Jane Doe, StudentID: w123456"
   ]
  },
  {
   "cell_type": "markdown",
   "metadata": {},
   "source": [
    "---\n",
    "\n",
    "### Part A - Practice (15pts)\n",
    "\n",
    "For each item below, determine the appropriate TypeScript code to generate the desired output.\n",
    "\n",
    "---"
   ]
  },
  {
   "cell_type": "markdown",
   "metadata": {},
   "source": [
    "1. Create an list of all layers in the OSI model.  \n",
    "(e.g. \"Physical\", \"Data Link\", etc.)  \n",
    "Then, loop through the list and print the names of all the layers,  \n",
    "_except_ the layer that begins with the letter 'T'.  \n",
    "(Don't use that layer's full name when looking for it.)<br>  \n",
    "__3 pts__"
   ]
  },
  {
   "cell_type": "code",
   "execution_count": null,
   "metadata": {
    "dotnet_interactive": {
     "language": "pwsh"
    }
   },
   "outputs": [],
   "source": [
    "// put your code here\n",
    "let osiLayers = [\"Physical\", \"Data Link\", \"Network\", \"Transport\", \"Session\", \"Presentation\", \"Application\"];\n",
    "\n",
    "for (let layer of osiLayers) {\n",
    "    if (layer[0] !== \"T\") {\n",
    "        console.log(layer);\n",
    "    }\n",
    "}"
   ]
  },
  {
   "cell_type": "markdown",
   "metadata": {},
   "source": [
    "2. Create a list of your courses this semester.  \n",
    "Make each element another list, creating a multidimensional list.  \n",
    "Have each row in the 2D list include both the course code and the course name.  \n",
    "e.g. 'PROG1700' and 'Logic and Programming'  \n",
    "Finally, print out the first course name in the list and the last course code.<br>  \n",
    "__3 pts__"
   ]
  },
  {
   "cell_type": "code",
   "execution_count": null,
   "metadata": {
    "dotnet_interactive": {
     "language": "pwsh"
    }
   },
   "outputs": [],
   "source": [
    "// put your code here\n",
    "let courses = [\n",
    "    [\"PROG1700\", \"Logic and Programming\"],\n",
    "    [\"NETW1027\", \"Introduction to Networking and Security\"],\n",
    "    [\"WEBD1000\", \"Website Development\"],\n",
    "    [\"OSYS1200\", \"Introduction to Windows \"]\n",
    "];\n",
    "\n",
    "console.log(`First course name: ${courses[0][1]}`);\n",
    "console.log(`Last course code: ${courses[courses.length - 1][0]}`);"
   ]
  },
  {
   "cell_type": "markdown",
   "metadata": {},
   "source": [
    "3. Create a dictionary that contains a list of common texting slang  \n",
    "and their matching words/phrases (e.g. lol = laugh out loud)  \n",
    "then use the new dictionary to decode the following, unintelligle text.<br>  \n",
    "`idk imho fwiw ur skillz r l33t l8r`<br>   \n",
    "Display the decoded text on a single line.<br>  \n",
    "__3 pts__"
   ]
  },
  {
   "cell_type": "code",
   "execution_count": null,
   "metadata": {
    "dotnet_interactive": {
     "language": "pwsh"
    },
    "polyglot_notebook": {
     "kernelName": "pwsh"
    }
   },
   "outputs": [],
   "source": [
    "// add your code here\n",
    "let slang = {\n",
    "  idk: \"I don't know\",\n",
    "  imho: \"in my humble opinion\",\n",
    "  fwiw: \"for what it's worth\",\n",
    "  ur: \"your\",\n",
    "  skillz: \"skills\",\n",
    "  r: \"are\",\n",
    "  l33t: \"elite\",\n",
    "  l8r: \"later\"\n",
    "};\n",
    "let msg = \"idk imho fwiw ur skillz r l33t l8r\";\n",
    "let decoded = msg.split(\" \").map(w => slang[w]).join(\" \");\n",
    "console.log(decoded);"
   ]
  },
  {
   "cell_type": "markdown",
   "metadata": {},
   "source": [
    "4. Create a program that takes a lowercase word,  \n",
    "then makes every odd letter upper case and every even letter lower case.  \n",
    "Print out the resulting word.<br>    \n",
    "e.g. `elite => ElItE`<br>  \n",
    "__3 pts__\n"
   ]
  },
  {
   "cell_type": "code",
   "execution_count": null,
   "metadata": {
    "dotnet_interactive": {
     "language": "pwsh"
    }
   },
   "outputs": [],
   "source": [
    "// use this word\n",
    "let word = \"hacker\"\n",
    "let result = \"\";\n",
    "for (let i = 0; i < word.length; i++) {\n",
    "    if (i % 2 === 0) {\n",
    "        result += word[i].toUpperCase();\n",
    "    } else {\n",
    "        result += word[i].toLowerCase();\n",
    "    }\n",
    "}\n",
    "\n",
    "console.log(result);\n"
   ]
  },
  {
   "cell_type": "markdown",
   "metadata": {},
   "source": [
    "5. Create a program that produces an acronym from a series of words.  \n",
    "e.g. if the input is `\"Nova Scotia Community College\"`, the output should be `\"NSCC\"`<br>  \n",
    "__3 pts__\n"
   ]
  },
  {
   "cell_type": "code",
   "execution_count": null,
   "metadata": {
    "dotnet_interactive": {
     "language": "pwsh"
    }
   },
   "outputs": [],
   "source": [
    "// use this text\n",
    "let text = \"Nova Scotia Community College\";\n",
    "let words = text.split(\" \");\n",
    "let acronym = \"\";\n",
    "for (let w of words) {\n",
    "    acronym += w[0].toUpperCase();\n",
    "}\n",
    "\n",
    "console.log(acronym);\n"
   ]
  },
  {
   "cell_type": "markdown",
   "metadata": {},
   "source": [
    "---\n",
    "### Part B - Bug Hunt (10pts)\n",
    "\n",
    "For the following questions, locate the bug(s) hidden in the code.  \n",
    "Write a brief sentence describing the bug(s) in the space provided.  \n",
    "Then, fix the bug(s) in the code to verify your fix works.<br>   \n",
    "__Note:__ Just find and fix the bug(s), don't rewrite the script.\n",
    "\n",
    "---\n"
   ]
  },
  {
   "cell_type": "markdown",
   "metadata": {},
   "source": [
    "6. The following data was extracted from a log file, however,  \n",
    "the data isn't in the desired format used in a weekly report.<br>  \n",
    "The script should take the dates in the format `\"yyyy-mm-dd HH:MM:SS\"` and  \n",
    "convert them into the format `\"mmm dd, yyyy\"`, ignoring the time.<br>  \n",
    "e.g. `2024-06-14 12:53:05 AM` => `Jun 14, 2024`<br>  \n",
    "__3 pts__\n"
   ]
  },
  {
   "cell_type": "markdown",
   "metadata": {
    "dotnet_interactive": {
     "language": "value"
    },
    "polyglot_notebook": {
     "kernelName": "value"
    }
   },
   "source": [
    "__Question:__ Describe what the bug is below.\n",
    "\n",
    "__Answer:__\n",
    "...add your answer here"
   ]
  },
  {
   "cell_type": "code",
   "execution_count": null,
   "metadata": {
    "dotnet_interactive": {
     "language": "pwsh"
    }
   },
   "outputs": [],
   "source": [
    "// convert this log entry\n",
    "let logEntry = \"2024-06-14 12:53:05 AM\\t10000\\tInformation\\tStarting session 0\";\n",
    "\n",
    "// find the bug here somewhere\n",
    "const months = \"Jan,Feb,Mar,Apr,May,Jun,Jul,Aug,Sep,Oct,Nov,Dec\";\n",
    "let [created, id, level, message] = logEntry.split(\"\\t\");\n",
    "let [date, ...rest] = created.split(' ');\n",
    "let [yyyy, mm, dd] = date.split(\"-\");\n",
    "let mmm = months.split(\",\")[parseInt(mm) - 1];\n",
    "\n",
    "console.log(\"Date\\t\\tID\\tLevel\\t\\tMessage\");\n",
    "console.log(`${mmm} ${dd}, ${yyyy}\\t${id}\\t${level}\\t${message}`);\n",
    "\n",
    "\\\n",
    "array indexes start at 0, and \"06\" is a string, not a number. So should use parseInt(mm) - 1"
   ]
  },
  {
   "cell_type": "markdown",
   "metadata": {},
   "source": [
    "7. The following script takes a dictionary of all the assignments, quizzes and exams from this course. It should determine the final grade as a percentage and shows whether the student has passed or failed the course.<br>  \n",
    "__4 pts__\n"
   ]
  },
  {
   "cell_type": "markdown",
   "metadata": {},
   "source": [
    "__Question:__ Describe what the bugs are below.\n",
    "\n",
    "__Answer:__\n",
    "...add your answer here"
   ]
  },
  {
   "cell_type": "code",
   "execution_count": null,
   "metadata": {
    "dotnet_interactive": {
     "language": "pwsh"
    }
   },
   "outputs": [],
   "source": [
    "\n",
    "let grades = {\n",
    "    'Assignments': [45, 65, 12, 78, 52],\n",
    "    'Quizzes': [89, 45, 67],\n",
    "    'Midterm': 72,\n",
    "    'Final': 85\n",
    "};\n",
    "let assignmentGrade = 0;\n",
    "for (const grade of grades['Assignment']) {\n",
    "    assignmentGrade += grade;\n",
    "}\n",
    "assignmentGrade /= grades['Assignments'].length;\n",
    "\n",
    "let quizGrade = 0;\n",
    "for (const grade of grades['Quizzes']) {\n",
    "    quizGrade += grade;\n",
    "}\n",
    "quizGrade /= grades['Quizzes'].length;\n",
    "\n",
    "let finalGrade = (assignmentGrade * 0.45) + (quizGrade * 0.25) +\n",
    "                 (grades['Midterm'] * 0.15) + (grades['Final'] * 0.15);\n",
    "\n",
    "if (finalGrade >= 60) {\n",
    "    console.log(`Final Grade: ${finalGrade}% (PASS)`);\n",
    "} else {\n",
    "    console.log(`Final Grade: ${finalGrade}% (FAIL)`);\n",
    "}\n",
    "\n",
    "quizeGrade shoule be 0.25"
   ]
  },
  {
   "cell_type": "markdown",
   "metadata": {},
   "source": [
    "8. A simple method of encryption/decryption is known as __\"ROT-13\"__, a type of \"substitution cipher\", where letters in a message are replaced by other letters in the alphabet that are 13 away from the original letter.\n",
    "<br>  \n",
    "In effect the original alphabet is converted to the following:  \n",
    "`ABCDEFGHIJKLMNOPQRSTUVWXYZ` => `NOPQRSTUVWXYZABCDEFGHIJKLM`  \n",
    "<br>\n",
    "The script below should take a given message and encrypt it using the ROT-13 cipher.  \n",
    "e.g. `\"nscc\"` => `\"afpp\"`  \n",
    "<br>\n",
    "__3 pts__\n"
   ]
  },
  {
   "cell_type": "markdown",
   "metadata": {},
   "source": [
    "__Question:__ Describe what the bug is below.\n",
    "\n",
    "__Answer:__\n",
    "...add your answer here"
   ]
  },
  {
   "cell_type": "code",
   "execution_count": null,
   "metadata": {
    "dotnet_interactive": {
     "language": "pwsh"
    }
   },
   "outputs": [],
   "source": [
    "// message to encrypt\n",
    "let message = \"nscc\";\n",
    "\n",
    "let key = {};\n",
    "for (let letter = 0; letter < 26; letter++) {\n",
    "    key[String.fromCharCode(letter + 97)] = String.fromCharCode((letter + 13) % 26 + 97)\n",
    "}\n",
    "let encrypted = \"\";\n",
    "for (let letter = 0; letter < message.length; letter++) {\n",
    "    encrypted += key[message[letter]]\n",
    "}\n",
    "console.log(`${message} => ${encrypted}`);\n",
    "\n",
    "The rule of ROT13 is to shift 13 positions forward, but in the code it is written as +12, which added 1 too few.\n"
   ]
  },
  {
   "cell_type": "markdown",
   "metadata": {},
   "source": [
    "---\n",
    "### Part C - Practical (5pts)\n"
   ]
  },
  {
   "cell_type": "markdown",
   "metadata": {},
   "source": [
    "The following is a list of new employees that have been hired at your company.\n",
    "\n",
    "Ella Forester  \n",
    "Liam Jackson  \n",
    "Wendy Johnston  \n",
    "Noah Jenkins  \n",
    "Sophia Jordan  \n",
    "William Johnson  \n",
    "Ava Adams  \n",
    "Ethan Forestall  \n",
    "Isabella Ingram  \n",
    "Mason Mitchell  \n",
    "\n",
    "The IT department has been tasked with setting up new user accounts for each employee.\n",
    "In order to do this, they need to create a script that will generate a username for each employee based on the following rules:\n",
    "\n",
    "- The username should be the first letter of the employee's first name, followed by the first 4 letters of their last name.\n",
    "- The username should be all lowercase.\n",
    "- If the username is already taken, add a number to the end of the username to make it unique.\n",
    "\n",
    "Create a script that will take a list of the given employee names and generate a username for each employee based on the rules above. The script should output all the employees' names with their new username in the format \"&lt;firstname&gt; &lt;lastname&gt; => &lt;username&gt;\"\n",
    "\n",
    "e.g.\n",
    "\n",
    "John Smith => jsmit\n",
    "Sally Jones => sjone\n",
    "Jack Smits => jsmit2\n",
    "...\n"
   ]
  },
  {
   "cell_type": "code",
   "execution_count": null,
   "metadata": {
    "dotnet_interactive": {
     "language": "pwsh"
    },
    "polyglot_notebook": {
     "kernelName": "pwsh"
    }
   },
   "outputs": [],
   "source": [
    "let names = [\n",
    "  \"Ella Forester\", \"Liam Jackson\", \"Wendy Johnston\", \"Noah Jenkins\", \"Sophia Jordan\",\n",
    "  \"William Johnson\", \"Ava Adams\", \"Ethan Forestall\", \"Isabella Ingram\", \"Mason Mitchell\"\n",
    "];\n",
    "\n",
    "let used = [];\n",
    "\n",
    "for (let n of names) {\n",
    "  let parts = n.split(\" \");\n",
    "  let first = parts[0];\n",
    "  let last = parts[1];\n",
    "  let base = (first[0] + last.slice(0, 4)).toLowerCase();\n",
    "  let user = base;\n",
    "  let count = 1;\n",
    "\n",
    "  while (used.includes(user)) {\n",
    "    count++;\n",
    "    user = base + count;\n",
    "  }\n",
    "\n",
    "  used.push(user);\n",
    "  console.log(`${n} => ${user}`);\n",
    "}\n"
   ]
  }
 ],
 "metadata": {
  "hide_input": false,
  "kernel_info": {
   "name": "python3"
  },
  "kernelspec": {
   "display_name": "Deno",
   "language": "typescript",
   "name": "deno"
  },
  "language_info": {
   "codemirror_mode": "typescript",
   "file_extension": ".ts",
   "mimetype": "text/x.typescript",
   "name": "typescript",
   "nbconvert_exporter": "script",
   "pygments_lexer": "typescript",
   "version": "5.9.2"
  },
  "nteract": {
   "version": "0.15.0"
  },
  "polyglot_notebook": {
   "kernelInfo": {
    "defaultKernelName": "csharp",
    "items": [
     {
      "aliases": [],
      "name": "csharp"
     }
    ]
   }
  }
 },
 "nbformat": 4,
 "nbformat_minor": 4
}
