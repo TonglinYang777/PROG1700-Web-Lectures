{
 "cells": [
  {
   "cell_type": "code",
   "execution_count": 4,
   "metadata": {
    "dotnet_interactive": {
     "language": "pwsh"
    }
   },
   "outputs": [
    {
     "name": "stdout",
     "output_type": "stream",
     "text": [
      "Name: Tonglin Yang\n",
      "Student#: W0526437\n"
     ]
    }
   ],
   "source": [
    "// write a program to print your name and student number \n",
    "// using variables and a template literal\n",
    "// 1 pt\n",
    "let name: string=\"Tonglin Yang\";\n",
    "let StudentNumber: string=\"W0526437\";\n",
    "console.log(`Name: ${name}\\nStudent#: W0526437`)"
   ]
  },
  {
   "cell_type": "markdown",
   "metadata": {
    "colab_type": "text",
    "id": "-ycSUdCI6y9U"
   },
   "source": [
    "# Assignment 2\n",
    "\n",
    "### Total : 26pts"
   ]
  },
  {
   "cell_type": "markdown",
   "metadata": {},
   "source": [
    "**Sample Output**  \n",
    "Name: John Doe  \n",
    "Student #: W0123456"
   ]
  },
  {
   "cell_type": "markdown",
   "metadata": {
    "colab_type": "text",
    "id": "Wu4GRcHW6y9Z"
   },
   "source": [
    "### Part A - Practice (16pts)\n",
    "\n",
    "For each item below, determine the appropriate TypeScript code to generate the desired output.\n",
    "\n",
    "__Note__: __Ensure you read each direction carefully! You will lose points for not producing the correct output.__\n",
    "\n",
    "---"
   ]
  },
  {
   "cell_type": "markdown",
   "metadata": {},
   "source": [
    "1. Write a small program that takes a numeric variable as input.  \n",
    "Print out \"EVEN\" if the value is a even number and do nothing if it is odd.<br>  \n",
    "__1 pt__"
   ]
  },
  {
   "cell_type": "code",
   "execution_count": 5,
   "metadata": {
    "dotnet_interactive": {
     "language": "pwsh"
    }
   },
   "outputs": [
    {
     "name": "stdout",
     "output_type": "stream",
     "text": [
      "EVEN\n"
     ]
    }
   ],
   "source": [
    "// this number could be any value\n",
    "// feel free to change it to test your code\n",
    "let number = 10; // could be 1, 5, 8, etc...\n",
    "if (number%2===0)\n",
    "console.log(\"EVEN\");\n",
    "// add your code here\n"
   ]
  },
  {
   "cell_type": "markdown",
   "metadata": {},
   "source": [
    "2. Write a small program that will look at a single character and print out \"__letter__\", if it is between the letters '__a__' and '__z__' (inclusive).<br>  \n",
    "__2 pts__"
   ]
  },
  {
   "cell_type": "code",
   "execution_count": 8,
   "metadata": {
    "dotnet_interactive": {
     "language": "pwsh"
    }
   },
   "outputs": [
    {
     "name": "stdout",
     "output_type": "stream",
     "text": [
      "letter\n"
     ]
    }
   ],
   "source": [
    "// this character could be any viewable character\n",
    "// feel free to change it to test your code\n",
    "let character = 'x'; // could be '$', 'p', '*', 'w', etc...\n",
    "if (character>='a'&character<='z') \n",
    "console.log(\"letter\");\n",
    "// add your code here\n"
   ]
  },
  {
   "cell_type": "markdown",
   "metadata": {},
   "source": [
    "3. Compare a given number and if the number is '12345' (secret code),<br>print \"UNLOCKED!\" otherwise have it print \"ALARM!\"<br>  \n",
    "__2 pts__"
   ]
  },
  {
   "cell_type": "code",
   "execution_count": 9,
   "metadata": {
    "dotnet_interactive": {
     "language": "pwsh"
    }
   },
   "outputs": [
    {
     "name": "stdout",
     "output_type": "stream",
     "text": [
      "ALARM\n"
     ]
    }
   ],
   "source": [
    "// assume this is the number that was entered by the user\n",
    "// it could be anything, including the correct combination\n",
    "let code = \"12346\"; // try different values here\n",
    "if (code===\"12345\")\n",
    "    console.log(\"UNLOCKED!\");\n",
    "else console.log(\"ALARM\")\n",
    "// add your code here\n"
   ]
  },
  {
   "cell_type": "markdown",
   "metadata": {},
   "source": [
    "4. Given an integer, determine and then output whether the number is \"negative\", \"positive\" or \"zero\".<br>  \n",
    "__3 pts__\n"
   ]
  },
  {
   "cell_type": "code",
   "execution_count": 10,
   "metadata": {
    "dotnet_interactive": {
     "language": "pwsh"
    }
   },
   "outputs": [
    {
     "name": "stdout",
     "output_type": "stream",
     "text": [
      "negative\n"
     ]
    }
   ],
   "source": [
    "// this could be any valid integer\n",
    "let integer = -5; // try different integers to test your code\n",
    "if (integer>0){\n",
    "    console.log(\"positive\");\n",
    "}\n",
    "else if (integer<0){\n",
    "    console.log(\"negative\");\n",
    "}\n",
    "else {\n",
    "    console.log(\"zero\");\n",
    "}\n",
    "// add your code here\n"
   ]
  },
  {
   "cell_type": "markdown",
   "metadata": {},
   "source": [
    "5. Create a program that solves that age old question,  \n",
    "  __\"Would you choose $1 Million dollars or get a single penny that doubles every day for a month?\"__  \n",
    "  (e.g. Day 1 = 1¢, Day 2 = 2¢, Day 3 = 4¢, ..., Day 30 = ?)<br>  \n",
    "  Calculate the total amount you would get on Day 30<br>  \n",
    "  _Note 1_: just output the amount you would have on Day 30, don't include other amounts  \n",
    "  _Note 2_: display the amount in dollars, not pennies<br>  \n",
    "  __3 pts__\n"
   ]
  },
  {
   "cell_type": "code",
   "execution_count": 14,
   "metadata": {
    "dotnet_interactive": {
     "language": "pwsh"
    }
   },
   "outputs": [
    {
     "name": "stdout",
     "output_type": "stream",
     "text": [
      "Amount on Day 30: $5368709.12\n"
     ]
    }
   ],
   "source": [
    "// add your code here\n",
    "let amount=0.01;\n",
    "for (let day=2; day<=30; day++){\n",
    "    amount= amount*2\n",
    "}\n",
    "console.log(\"Amount on Day 30: $\"+amount);"
   ]
  },
  {
   "cell_type": "markdown",
   "metadata": {},
   "source": [
    "6. Create a program that outputs the following pattern using loops. <br>(i.e. not individual console.log statements)<br>  \n",
    "Try to challenge yourself to make the code in the least number of lines.<br>  \n",
    "__5 pts__\n",
    "```shell\n",
    "         o\n",
    "        ooo\n",
    "       ooooo\n",
    "      ooooooo\n",
    "     ooooooooo\n",
    "    ooooooooooo\n",
    "   ooooooooooooo\n",
    "  ooooooooooooooo\n",
    " ooooooooooooooooo\n",
    "ooooooooooooooooooo\n",
    " ooooooooooooooooo\n",
    "  ooooooooooooooo\n",
    "   ooooooooooooo\n",
    "    ooooooooooo\n",
    "     ooooooooo\n",
    "      ooooooo\n",
    "       ooooo\n",
    "        ooo\n",
    "         o\n",
    "```\n"
   ]
  },
  {
   "cell_type": "code",
   "execution_count": 18,
   "metadata": {
    "dotnet_interactive": {
     "language": "pwsh"
    }
   },
   "outputs": [
    {
     "name": "stdout",
     "output_type": "stream",
     "text": [
      "         o\n",
      "        ooo\n",
      "       ooooo\n",
      "      ooooooo\n",
      "     ooooooooo\n",
      "    ooooooooooo\n",
      "   ooooooooooooo\n",
      "  ooooooooooooooo\n",
      " ooooooooooooooooo\n",
      "ooooooooooooooooooo\n",
      " ooooooooooooooooo\n",
      "  ooooooooooooooo\n",
      "   ooooooooooooo\n",
      "    ooooooooooo\n",
      "     ooooooooo\n",
      "      ooooooo\n",
      "       ooooo\n",
      "        ooo\n",
      "         o\n"
     ]
    }
   ],
   "source": [
    "// add your code here\n",
    "let row=10;\n",
    "for (let i=1; i<=row; i++){\n",
    "    console.log(\" \".repeat(row-i)+\"o\".repeat(i*2-1));\n",
    "}\n",
    "for (let i=row-1;i>=1;i--){\n",
    "    console.log(\" \".repeat(row-i)+\"o\".repeat(i*2-1));\n",
    "}"
   ]
  },
  {
   "cell_type": "markdown",
   "metadata": {},
   "source": [
    "---\n",
    "### Part B - Understand (9pts)\n",
    "\n",
    "For the following, you will need to understand how the program works in order to solve the problem."
   ]
  },
  {
   "cell_type": "markdown",
   "metadata": {},
   "source": [
    "7. Modify the following to output the odd numbers \"5 3 1 -1 -3 -5\".<br>  \n",
    "__2 pts__<br>  \n",
    "    ```typescript\n",
    "    // original code\n",
    "    let output = \"\";\n",
    "    for (let i = 0; i < 5; i++) {\n",
    "        output += `${i} `;\n",
    "    }\n",
    "    console.log(output);\n",
    "    ```\n"
   ]
  },
  {
   "cell_type": "code",
   "execution_count": 21,
   "metadata": {
    "dotnet_interactive": {
     "language": "pwsh"
    }
   },
   "outputs": [
    {
     "name": "stdout",
     "output_type": "stream",
     "text": [
      "5 3 1 -1 -3 -5 \n"
     ]
    }
   ],
   "source": [
    "// modify this code\n",
    "let output = \"\";\n",
    "for (let i = 5; i >= -5; i-=2) {\n",
    "    output += `${i} `;\n",
    "}\n",
    "console.log(output);\n"
   ]
  },
  {
   "cell_type": "markdown",
   "metadata": {},
   "source": [
    "8. Make a __single__ change to the expression in the following 'if' statement to make the statement 'true' and successfully print the desired output.<br>  \n",
    "__1 pt__<br>  \n",
    "    ```typescript\n",
    "    // original code\n",
    "    if (!(5 < 10) && (true != false) || ('apple' > 'orange')) {\n",
    "        console.log(\"Success!\");\n",
    "    } else {\n",
    "        console.log(\"Not yet...\");\n",
    "    }\n",
    "    ```"
   ]
  },
  {
   "cell_type": "code",
   "execution_count": 22,
   "metadata": {
    "dotnet_interactive": {
     "language": "pwsh"
    }
   },
   "outputs": [
    {
     "name": "stdout",
     "output_type": "stream",
     "text": [
      "Success!\n"
     ]
    }
   ],
   "source": [
    "// modify this code\n",
    "if ((5 < 10) && (true != false) || ('apple' > 'orange')) {\n",
    "    console.log(\"Success!\");\n",
    "} else {\n",
    "    console.log(\"Not yet...\");\n",
    "}"
   ]
  },
  {
   "cell_type": "markdown",
   "metadata": {},
   "source": [
    "9. The following program converts the number '1' to the day 'Sunday'.  \n",
    "Modify the program so that if the variable 'day' is between 1-7,\n",
    "the program will output the corresponding day of the week. (i.e.'Sunday' thru 'Saturday').<br>  \n",
    "__3 pts__\n",
    "    ```typescript\n",
    "    // original code\n",
    "    let day = 1; // this value could be 1 - 7\n",
    "    if (day === 1) {\n",
    "        day = \"Sunday\";\n",
    "    }\n",
    "    console.log(day);\n",
    "    ```\n"
   ]
  },
  {
   "cell_type": "code",
   "execution_count": 24,
   "metadata": {
    "dotnet_interactive": {
     "language": "pwsh"
    }
   },
   "outputs": [
    {
     "name": "stdout",
     "output_type": "stream",
     "text": [
      "Sunday\n"
     ]
    }
   ],
   "source": [
    "// modify this code\n",
    "let day = 1; // this value could be 1 - 7\n",
    "if (day === 1) day = \"Sunday\";\n",
    "else if (day===2) day=\"Monday\";\n",
    "else if (day===3) day=\"Tuesday\";\n",
    "else if (day===4) day=\"Wednesday\";\n",
    "else if (day===5) day=\"Thursday\";\n",
    "else if (day===6) day=\"Friday\";\n",
    "else if (day===7) day=\"Saturday\";\n",
    "console.log(day);\n"
   ]
  },
  {
   "cell_type": "markdown",
   "metadata": {},
   "source": [
    "10. Determine what value to change the variable \"magic_num\" to in order to print out the message.<br>  \n",
    "__3 pts__\n",
    "    ```typescript\n",
    "    // Just change the number to the real magic number! Yep, that's it!\n",
    "    // Please keep your answer from others. The fun is solving the puzzle after all!\n",
    "    let magic_num = 684;\n",
    "\n",
    "    // don't modify the following code\n",
    "    let check = 0;\n",
    "    while (check < 132) {\n",
    "        for (let i = 0; i < 9; i++) {\n",
    "            magic_num -= 4;\n",
    "        }\n",
    "        check += 7;\n",
    "    }\n",
    "\n",
    "    if (magic_num === 0) {\n",
    "        console.log(\"You found the magic number!\");\n",
    "    } else {\n",
    "        console.log(\"Not yet. Keep trying!\");\n",
    "    }\n",
    "    ```\n"
   ]
  },
  {
   "cell_type": "code",
   "execution_count": 25,
   "metadata": {
    "dotnet_interactive": {
     "language": "pwsh"
    }
   },
   "outputs": [
    {
     "name": "stdout",
     "output_type": "stream",
     "text": [
      "You found the magic number!\n"
     ]
    }
   ],
   "source": [
    "// Just change the number to the real magic number! Yep, that's it!\n",
    "// Please keep your answer from others. The fun is solving the puzzle after all!\n",
    "let magic_num = 684;\n",
    "\n",
    "// don't modify the following code\n",
    "let check = 0;\n",
    "while (check < 132) {\n",
    "    for (let i = 0; i < 9; i++) {\n",
    "        magic_num -= 4\n",
    "    }\n",
    "    check += 7\n",
    "}\n",
    "\n",
    "if (magic_num === 0) {\n",
    "    console.log(\"You found the magic number!\")\n",
    "} else {\n",
    "    console.log(\"Not yet. Keep trying!\")\n",
    "}"
   ]
  },
  {
   "cell_type": "code",
   "execution_count": null,
   "metadata": {},
   "outputs": [],
   "source": [
    " "
   ]
  }
 ],
 "metadata": {
  "hide_input": false,
  "kernelspec": {
   "display_name": "Deno",
   "language": "typescript",
   "name": "deno"
  },
  "language_info": {
   "codemirror_mode": "typescript",
   "file_extension": ".ts",
   "mimetype": "text/x.typescript",
   "name": "typescript",
   "nbconvert_exporter": "script",
   "pygments_lexer": "typescript",
   "version": "5.9.2"
  },
  "nteract": {
   "version": "0.15.0"
  },
  "polyglot_notebook": {
   "kernelInfo": {
    "defaultKernelName": "powershell",
    "items": [
     {
      "aliases": [],
      "name": "powershell"
     }
    ]
   }
  }
 },
 "nbformat": 4,
 "nbformat_minor": 4
}
